{
 "cells": [
  {
   "cell_type": "markdown",
   "metadata": {},
   "source": [
    "### UTILITIES"
   ]
  },
  {
   "cell_type": "code",
   "execution_count": 57,
   "metadata": {},
   "outputs": [],
   "source": [
    "import time \n",
    "import math \n",
    "  \n",
    "def calculate_time(func): \n",
    "    def inner1(*args, **kwargs): \n",
    "        begin = time.time_ns() \n",
    "        for _ in range(1000):\n",
    "            res = func(*args, **kwargs) \n",
    "        end = time.time_ns() \n",
    "        print(\"Average time taken in : '{}' is: {}ns\".format(func.__name__, (end - begin)/1000))\n",
    "        return res\n",
    "    return inner1 "
   ]
  },
  {
   "cell_type": "markdown",
   "metadata": {},
   "source": [
    "### QUESTION 1 - (TO CORRECT)\n",
    "\n",
    "A palindrome is a sequence of characters that reads the same backwards and forwards. Given a string, s, find the longest palindromic substring in s.\n",
    "\n",
    "Example:\n",
    "Input: \"banana\"\n",
    "Output: \"anana\"\n",
    "\n",
    "Input: \"million\"\n",
    "Output: \"illi\""
   ]
  },
  {
   "cell_type": "code",
   "execution_count": null,
   "metadata": {},
   "outputs": [],
   "source": []
  },
  {
   "cell_type": "code",
   "execution_count": 58,
   "metadata": {},
   "outputs": [
    {
     "name": "stdout",
     "output_type": "stream",
     "text": [
      "---------------------\n",
      "Average time taken in : 'longestPalindrome' is: 3499.2ns\n",
      "---------------------\n",
      "Average time taken in : 'longestPalindrome' is: 2503.8ns\n",
      "Test case nr: 2 - failed\n",
      "Expected: anana\n",
      "Result: ana\n",
      "\n",
      "\n",
      "---------------------\n",
      "Average time taken in : 'longestPalindrome' is: 2152.2ns\n",
      "Test case nr: 3 - failed\n",
      "Expected: illi\n",
      "Result: \n",
      "\n",
      "\n"
     ]
    }
   ],
   "source": [
    "class Solution: \n",
    "    \n",
    "    @calculate_time\n",
    "    def longestPalindrome(self, s):\n",
    "        str_range = range(len(s)-1)\n",
    "        longest_p = \"\"\n",
    "        for i, char in enumerate(s, 1):\n",
    "            j, k = i-1, i+1\n",
    "            while j and k in str_range:\n",
    "                if s[j] == s[k]:\n",
    "                    if len(longest_p) < abs(j-k):\n",
    "                        longest_p = s[j:k+1]\n",
    "                else:\n",
    "                    break\n",
    "                j,k = j -1,k+1\n",
    "        return longest_p\n",
    "        \n",
    "# Test program\n",
    "test_cases = {\n",
    "    \"tracecars\" : \"racecar\",\n",
    "    \"banana\" : \"anana\",\n",
    "    \"million\": \"illi\",\n",
    "}\n",
    "\n",
    "for i, txt in enumerate(test_cases, 1):\n",
    "    print(\"---------------------\")\n",
    "    sol = \"\"\n",
    "    try:\n",
    "        sol = Solution().longestPalindrome(txt)\n",
    "        assert sol == test_cases[txt]\n",
    "    except AssertionError:\n",
    "        print(\"Test case nr: {0} - failed\\nExpected: {1}\\nResult: {2}\\n\\n\".format(i, test_cases[txt], sol))\n",
    "# racecar\n"
   ]
  },
  {
   "cell_type": "markdown",
   "metadata": {},
   "source": [
    "### QUESTION 2 - (SOLVED)\n",
    "\n",
    "Imagine you are building a compiler. Before running any code, the compiler must check that the parentheses in the program are balanced. Every opening bracket must have a corresponding closing bracket. We can approximate this using strings. \n",
    "\n",
    "Given a string containing just the characters '(', ')', '{', '}', '[' and ']', determine if the input string is valid. \n",
    "An input string is valid if:\n",
    "- Open brackets are closed by the same type of brackets.\n",
    "- Open brackets are closed in the correct order.\n",
    "- Note that an empty string is also considered valid."
   ]
  },
  {
   "cell_type": "code",
   "execution_count": 59,
   "metadata": {},
   "outputs": [
    {
     "name": "stdout",
     "output_type": "stream",
     "text": [
      "Average time taken in : 'isValid' is: 998.7ns\n",
      "False\n",
      "Average time taken in : 'isValid' is: 0.0ns\n",
      "True\n",
      "Average time taken in : 'isValid' is: 2000.4ns\n",
      "True\n"
     ]
    }
   ],
   "source": [
    "class Solution:\n",
    "    @calculate_time\n",
    "    def isValid(self, s):\n",
    "        if s:\n",
    "            parantheses_pairs = (('(', ')'), ('{', '}'), ('[', ']'))\n",
    "            parantheses_counter = {\n",
    "                '(': 0, ')': 0,\n",
    "                '{': 0, '}': 0,\n",
    "                '[': 0, ']': 0,\n",
    "            }\n",
    "            for char in s:\n",
    "                if char in parantheses_counter:\n",
    "                    parantheses_counter[char] += 1\n",
    "            for pair in parantheses_pairs:\n",
    "                o, c = parantheses_counter[pair[0]], parantheses_counter[pair[1]]\n",
    "                if c != o or c > o:\n",
    "                    return False\n",
    "        return True\n",
    "\n",
    "        \n",
    "\n",
    "# Test Program\n",
    "s = \"()(){(())\" \n",
    "# should return False\n",
    "print(Solution().isValid(s))\n",
    "\n",
    "s = \"\"\n",
    "# should return True\n",
    "print(Solution().isValid(s))\n",
    "\n",
    "s = \"([{}])()\"\n",
    "# should return True\n",
    "print(Solution().isValid(s))"
   ]
  },
  {
   "cell_type": "markdown",
   "metadata": {},
   "source": [
    "### QUESTION 3 - (SOLVED)\n",
    "\n",
    "Hi, here's your problem today. This problem was recently asked by Microsoft:\n",
    "\n",
    "Given a string, find the length of the longest substring without repeating characters.\n",
    "\n",
    "Can you find a solution in linear time?"
   ]
  },
  {
   "cell_type": "code",
   "execution_count": 60,
   "metadata": {},
   "outputs": [
    {
     "name": "stdout",
     "output_type": "stream",
     "text": [
      "Average time taken in : 'lengthOfLongestSubstring' is: 6496.1ns\n",
      "10\n"
     ]
    }
   ],
   "source": [
    "class Solution:\n",
    "    @calculate_time\n",
    "    def lengthOfLongestSubstring(self, s):\n",
    "        longest = 0\n",
    "        unique_chars = set()\n",
    "        for char in s:\n",
    "            if char in unique_chars:\n",
    "                lenght = len(unique_chars)\n",
    "                unique_chars = set(char)\n",
    "                if lenght > longest:\n",
    "                    longest = lenght\n",
    "            else:\n",
    "                unique_chars.add(char)\n",
    "        return longest\n",
    "\n",
    "\n",
    "\n",
    "print(Solution().lengthOfLongestSubstring('abrkaabcdefghijjxxx'))\n",
    "# print(Solution().lengthOfLongestSubstring('abb'))\n",
    "\n",
    "# 10"
   ]
  },
  {
   "cell_type": "markdown",
   "metadata": {},
   "source": [
    "### QUESTION 4\n",
    "\n",
    "Hi, here's your problem today. This problem was recently asked by Microsoft:\n",
    "\n",
    "You are given two linked-lists representing two non-negative integers. The digits are stored in reverse order and each of their nodes contain a single digit. Add the two numbers and return it as a linked list.\n",
    "\n",
    "Example:\n",
    "Input: (2 -> 4 -> 3) + (5 -> 6 -> 4)\n",
    "Output: 7 -> 0 -> 8\n",
    "Explanation: 342 + 465 = 807."
   ]
  },
  {
   "cell_type": "code",
   "execution_count": 61,
   "metadata": {},
   "outputs": [
    {
     "name": "stdout",
     "output_type": "stream",
     "text": [
      "Average time taken in : 'addTwoNumbers' is: 0.0ns\n"
     ]
    }
   ],
   "source": [
    "# Definition for singly-linked list.\n",
    "class ListNode(object):\n",
    "    def __init__(self, x):\n",
    "        self.val = x\n",
    "        self.next = None\n",
    "\n",
    "class Solution:\n",
    "    @calculate_time\n",
    "    def addTwoNumbers(self, l1, l2, c = 0):\n",
    "        pass\n",
    "\n",
    "l1 = ListNode(2)\n",
    "l1.next = ListNode(4)\n",
    "l1.next.next = ListNode(3)\n",
    "\n",
    "l2 = ListNode(5)\n",
    "l2.next = ListNode(6)\n",
    "l2.next.next = ListNode(4)\n",
    "\n",
    "result = Solution().addTwoNumbers(l1, l2)\n",
    "while result:\n",
    "    print(result.val)\n",
    "    result = result.next\n",
    "# 7 0 8"
   ]
  },
  {
   "cell_type": "markdown",
   "metadata": {},
   "source": [
    "### QUESTION 5 - (SOLVED)\n",
    "\n",
    "Hi, here's your problem today. This problem was recently asked by AirBNB:\n",
    "\n",
    "Given a sorted array, A, with possibly duplicated elements, find the indices of the first and last occurrences of a target element, x. Return -1 if the target is not found.\n",
    "\n",
    "Example:\n",
    "Input: A = [1,3,3,5,7,8,9,9,9,15], target = 9\n",
    "Output: [6,8]\n",
    "\n",
    "Input: A = [100, 150, 150, 153], target = 150\n",
    "Output: [1,2]\n",
    "\n",
    "Input: A = [1,2,3,4,5,6,10], target = 9\n",
    "Output: [-1, -1]"
   ]
  },
  {
   "cell_type": "code",
   "execution_count": 62,
   "metadata": {},
   "outputs": [
    {
     "name": "stdout",
     "output_type": "stream",
     "text": [
      "Average time taken in : 'getRange' is: 997.0ns\n",
      "[1, 4]\n"
     ]
    }
   ],
   "source": [
    "class Solution: \n",
    "    @calculate_time\n",
    "    def getRange(self, arr, target):\n",
    "        first, last = -1, -1\n",
    "        for i, num in enumerate(arr):\n",
    "            if num == target:\n",
    "                if first == -1:\n",
    "                    first = i\n",
    "                last = i\n",
    "        return [first, last]\n",
    "\n",
    "\n",
    "#Test program \n",
    "arr = [1, 2, 2, 2, 2, 3, 4, 7, 8, 8] \n",
    "x = 2\n",
    "print(Solution().getRange(arr, x))\n",
    "# [1, 4]\n"
   ]
  },
  {
   "cell_type": "markdown",
   "metadata": {},
   "source": [
    "### QUESTION 6\n",
    "\n",
    "Hi, here's your problem today. This problem was recently asked by Google:\n",
    "\n",
    "Given a singly-linked list, reverse the list. This can be done iteratively or recursively. Can you get both solutions?\n",
    "\n",
    "Example:\n",
    "Input: 4 -> 3 -> 2 -> 1 -> 0 -> NULL\n",
    "Output: 0 -> 1 -> 2 -> 3 -> 4 -> NULL"
   ]
  },
  {
   "cell_type": "code",
   "execution_count": 63,
   "metadata": {},
   "outputs": [
    {
     "name": "stdout",
     "output_type": "stream",
     "text": [
      "Initial list: \n",
      "4 3 2 1 0 \n",
      "Average time taken in : 'reverseIteratively' is: 0.0ns\n",
      "List after reversal: \n",
      "0 \n"
     ]
    }
   ],
   "source": [
    "class ListNode(object):\n",
    "    def __init__(self, x):\n",
    "        self.val = x\n",
    "        self.next = None\n",
    "  \n",
    "    # Function to print the list\n",
    "    def printList(self):\n",
    "        node = self\n",
    "        output = '' \n",
    "        while node != None:\n",
    "            output += str(node.val)\n",
    "            output += \" \"\n",
    "            node = node.next\n",
    "        print(output)\n",
    "\n",
    "    # Iterative Solution\n",
    "    @calculate_time\n",
    "    def reverseIteratively(self, head):\n",
    "        # Implement this.\n",
    "        pass\n",
    "\n",
    "    # Recursive Solution \n",
    "    @calculate_time\n",
    "    def reverseRecursively(self, head):\n",
    "        # Implement this.\n",
    "        pass\n",
    "\n",
    "# Test Program\n",
    "# Initialize the test list: \n",
    "testHead = ListNode(4)\n",
    "node1 = ListNode(3)\n",
    "testHead.next = node1\n",
    "node2 = ListNode(2)\n",
    "node1.next = node2\n",
    "node3 = ListNode(1)\n",
    "node2.next = node3\n",
    "testTail = ListNode(0)\n",
    "node3.next = testTail\n",
    "\n",
    "print(\"Initial list: \")\n",
    "testHead.printList()\n",
    "# 4 3 2 1 0\n",
    "testHead.reverseIteratively(testHead)\n",
    "#testHead.reverseRecursively(testHead)\n",
    "print(\"List after reversal: \")\n",
    "testTail.printList()\n",
    "# 0 1 2 3 4"
   ]
  },
  {
   "cell_type": "markdown",
   "metadata": {},
   "source": [
    "### QUESTION 7\n",
    "\n",
    "Hi, here's your problem today. This problem was recently asked by Google:\n",
    "\n",
    "Given a list of numbers with only 3 unique numbers (1, 2, 3), sort the list in O(n) time.\n",
    "\n",
    "Example 1:\n",
    "Input: [3, 3, 2, 1, 3, 2, 1]\n",
    "Output: [1, 1, 2, 2, 3, 3, 3]"
   ]
  },
  {
   "cell_type": "code",
   "execution_count": 65,
   "metadata": {},
   "outputs": [
    {
     "name": "stdout",
     "output_type": "stream",
     "text": [
      "Average time taken in : 'sortNums' is: 499.6ns\n",
      "None\n"
     ]
    }
   ],
   "source": [
    "@calculate_time\n",
    "def sortNums(nums):\n",
    "    # Fill this in.\n",
    "    pass\n",
    "\n",
    "print(sortNums([3, 3, 2, 1, 3, 2, 1]))\n",
    "# [1, 1, 2, 2, 3, 3, 3]"
   ]
  },
  {
   "cell_type": "code",
   "execution_count": null,
   "metadata": {},
   "outputs": [],
   "source": []
  },
  {
   "cell_type": "code",
   "execution_count": null,
   "metadata": {},
   "outputs": [],
   "source": []
  }
 ],
 "metadata": {
  "kernelspec": {
   "display_name": "Python 3",
   "language": "python",
   "name": "python3"
  },
  "language_info": {
   "codemirror_mode": {
    "name": "ipython",
    "version": 3
   },
   "file_extension": ".py",
   "mimetype": "text/x-python",
   "name": "python",
   "nbconvert_exporter": "python",
   "pygments_lexer": "ipython3",
   "version": "3.7.0"
  }
 },
 "nbformat": 4,
 "nbformat_minor": 2
}
